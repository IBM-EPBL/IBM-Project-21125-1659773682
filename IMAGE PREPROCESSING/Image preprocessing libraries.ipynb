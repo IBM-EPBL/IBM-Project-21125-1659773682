{
  "nbformat": 4,
  "nbformat_minor": 0,
  "metadata": {
    "colab": {
      "provenance": []
    },
    "kernelspec": {
      "name": "python3",
      "display_name": "Python 3"
    },
    "language_info": {
      "name": "python"
    }
  },
  "cells": [
    {
      "cell_type": "markdown",
      "source": [
        "#Image Pre-Processing\n"
      ],
      "metadata": {
        "id": "4D8Hql6gvn24"
      }
    },
    {
      "cell_type": "markdown",
      "source": [
        "#Importing the Necessary Libraries"
      ],
      "metadata": {
        "id": "8N59N-Wzvz8E"
      }
    },
    {
      "cell_type": "code",
      "source": [
        "import numpy as np\n",
        "import pandas as pd\n",
        "import matplotlib.pyplot as plt\n",
        "import seaborn as sns\n",
        "import zipfile as zf\n",
        "import os\n",
        "import random\n",
        "import cv2\n",
        "import pickle\n",
        "from imutils import build_montages\n",
        "from imutils import paths\n",
        "from sklearn.metrics import classification_report,confusion_matrix\n",
        "from sklearn import metrics\n",
        "from sklearn.preprocessing import LabelEncoder,LabelBinarizer\n",
        "from sklearn.model_selection import train_test_split\n",
        "from sklearn.ensemble import RandomForestClassifier,GradientBoostingClassifier,ExtraTreesClassifier\n",
        "from skimage import feature\n",
        "from google.colab.patches import cv2_imshow"
      ],
      "metadata": {
        "id": "oqeB-c4jwBuB"
      },
      "execution_count": 1,
      "outputs": []
    }
  ]
}
